{
 "cells": [
  {
   "cell_type": "markdown",
   "metadata": {},
   "source": [
    "---\n",
    "toc: false\n",
    "comments: false\n",
    "layout: default\n",
    "title: Undecided Problems\n",
    "type: ccc\n",
    "courses: { csp: {week: 2} }\n",
    "---"
   ]
  },
  {
   "cell_type": "markdown",
   "metadata": {},
   "source": []
  },
  {
   "cell_type": "markdown",
   "metadata": {},
   "source": [
    "### Decidable Problem\n",
    "\n",
    "> A decidable problem is one that we can come to a yes/no answer given any input. An examle would be given a number determine if it is divisible by 3. We know that the algorithm below would provide the correct ouput every time."
   ]
  },
  {
   "cell_type": "code",
   "execution_count": null,
   "metadata": {
    "vscode": {
     "languageId": "plaintext"
    }
   },
   "outputs": [],
   "source": [
    "PRODECURE divisbleByThree(num)\n",
    "    IF (num MOD 3 = 9) \n",
    "        RETURN true\n",
    "    ELSE\n",
    "        RETURN false"
   ]
  },
  {
   "cell_type": "markdown",
   "metadata": {},
   "source": [
    "### Undecidable Problem\n",
    "\n",
    "**Halting Problem**\n",
    "> The halting problem is defined as: Given an arbitrary computer program with given inputs will the program stop or will it run forever? \n",
    "\n",
    "There is no way to solve this problem with a yes/no answer everytime. How do you test for an ending if there isn't one?\n",
    "\n",
    "One way would be to test for an ending, but what if that ending is not easily found? What if it takes an ureasnoable amount of time to find the ending? Is that because there is an ending or does one not exist?\n",
    "\n",
    "You see where the problem comes in? This is an undecidable problem -- there is no algorithm which can always produce a yes/no answer for every input of the problem.\n",
    "\n",
    "**Halting Problem in Computers**\n",
    "Where may we have seen this in computers today? When a website or program takes too long to load it. It may never load, or it may just be taking a long time. Either way, after a certain time the computer decides the program should be stopped.\n",
    "\n",
    "### Popcorn Hack #1\n",
    "An algorithm can be used to solve an undecidable problem. **(True/False)**\n",
    "\n",
    "### Popcorn Hack #2 \n",
    "If a programmer encounters an undecidable problem, they can just use an alogirhtm that works most of the time. **(True/False)**"
   ]
  }
 ],
 "metadata": {
  "language_info": {
   "name": "python"
  },
  "orig_nbformat": 4
 },
 "nbformat": 4,
 "nbformat_minor": 2
}
