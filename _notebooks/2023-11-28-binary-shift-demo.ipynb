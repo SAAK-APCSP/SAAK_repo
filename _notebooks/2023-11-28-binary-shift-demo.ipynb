{
 "cells": [
  {
   "cell_type": "markdown",
   "metadata": {},
   "source": [
    "---\n",
    "toc: false\n",
    "comments: false\n",
    "layout: post\n",
    "title: Binary Shift Demo\n",
    "description: :D\n",
    "type: ccc\n",
    "courses: { csp: {week: 14} }\n",
    "---"
   ]
  },
  {
   "cell_type": "markdown",
   "metadata": {},
   "source": [
    "# Binary Shifting in Python, JavaScript, and Pseudocode\n",
    "\n",
    "Binary shifting is a bitwise operation that shifts the bits of a binary number to the left or right. Let's explore binary shifting with examples in Python, JavaScript, and College Board-style pseudocode."
   ]
  },
  {
   "cell_type": "markdown",
   "metadata": {},
   "source": [
    "## Python Example\n",
    "\n",
    "Binary shifting in Python is performed using the `<<` (left shift) and `>>` (right shift) operators. Let's see an example."
   ]
  },
  {
   "cell_type": "code",
   "execution_count": null,
   "metadata": {},
   "outputs": [],
   "source": [
    "# Python Example\n",
    "original_number = 5\n",
    "shifted_number = original_number << 2\n",
    "\n",
    "print(f'Original number: {original_number} (binary: {bin(original_number)})')\n",
    "print(f'Left shifted by 2: {shifted_number} (binary: {bin(shifted_number)})')"
   ]
  },
  {
   "cell_type": "markdown",
   "metadata": {},
   "source": [
    "## JavaScript Example\n",
    "\n",
    "Binary shifting in JavaScript is performed using the `<<` (left shift) and `>>` (right shift) operators as well. Here's an example in JavaScript."
   ]
  },
  {
   "cell_type": "code",
   "execution_count": null,
   "metadata": {
    "vscode": {
     "languageId": "javascript"
    }
   },
   "outputs": [],
   "source": [
    "/* JavaScript Example */\n",
    "let originalNumber = 5;\n",
    "let shiftedNumber = originalNumber << 2;\n",
    "\n",
    "console.log(`Original number: ${originalNumber} (binary: ${originalNumber.toString(2)})`);\n",
    "console.log(`Left shifted by 2: ${shiftedNumber} (binary: ${shiftedNumber.toString(2)})`);"
   ]
  },
  {
   "cell_type": "markdown",
   "metadata": {},
   "source": [
    "## College Board Pseudocode Example\n",
    "\n",
    "The College Board often uses a specific pseudocode style in their exams. Here's an example of binary shifting in that style."
   ]
  },
  {
   "cell_type": "code",
   "execution_count": null,
   "metadata": {
    "vscode": {
     "languageId": "plaintext"
    }
   },
   "outputs": [],
   "source": [
    "# College Board Pseudocode Example\n",
    "originalNumber <- 5\n",
    "shiftedNumber <- originalNumber << 2\n",
    "\n",
    "OUTPUT 'Original number: ' + originalNumber + ' (binary: ' + toBinary(originalNumber) + ')'\n",
    "OUTPUT 'Left shifted by 2: ' + shiftedNumber + ' (binary: ' + toBinary(shiftedNumber) + ')'\n",
    "\n",
    "FUNCTION toBinary(num)\n",
    "    # Function to convert decimal to binary\n",
    "    RETURN binaryRepresentation"
   ]
  },
  {
   "cell_type": "markdown",
   "metadata": {},
   "source": [
    "![demo](https://i.imgur.com/AD69aaH.png)"
   ]
  }
 ],
 "metadata": {
  "kernelspec": {
   "display_name": "Python 3",
   "language": "python",
   "name": "python3"
  },
  "language_info": {
   "codemirror_mode": {
    "name": "ipython",
    "version": 3
   },
   "file_extension": ".py",
   "mimetype": "text/x-python",
   "name": "python",
   "nbconvert_exporter": "python",
   "pygments_lexer": "ipython3",
   "version": "3.8.8"
  }
 },
 "nbformat": 4,
 "nbformat_minor": 5
}
